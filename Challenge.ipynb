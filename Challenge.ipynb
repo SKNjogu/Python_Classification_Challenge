{
  "nbformat": 4,
  "nbformat_minor": 0,
  "metadata": {
    "colab": {
      "name": "Challenge.ipynb",
      "version": "0.3.2",
      "provenance": []
    },
    "kernelspec": {
      "name": "python3",
      "display_name": "Python 3"
    }
  },
  "cells": [
    {
      "metadata": {
        "id": "3Y9KPSCyT9Bn",
        "colab_type": "code",
        "colab": {}
      },
      "cell_type": "code",
      "source": [
        "import pandas as pd\n",
        "import numpy as np\n",
        "import matplotlib.pyplot as plt\n",
        "from sklearn.metrics import confusion_matrix,classification_report\n",
        "from sklearn.metrics import accuracy_score,roc_curve,log_loss,f1_score,roc_auc_score\n",
        "from sklearn.neighbors import KNeighborsClassifier\n",
        "from sklearn.linear_model import LogisticRegression\n",
        "from sklearn.naive_bayes import GaussianNB\n",
        "from sklearn.model_selection import cross_val_score\n",
        "import seaborn as sns;sns.set()\n",
        "import warnings\n",
        "warnings.filterwarnings('ignore')"
      ],
      "execution_count": 0,
      "outputs": []
    },
    {
      "metadata": {
        "id": "_0deBit0Wxwr",
        "colab_type": "text"
      },
      "cell_type": "markdown",
      "source": [
        "**iMPORTING VARIABLES**"
      ]
    },
    {
      "metadata": {
        "id": "CZet72MbUZtn",
        "colab_type": "text"
      },
      "cell_type": "markdown",
      "source": [
        "***Importing libraries***"
      ]
    },
    {
      "metadata": {
        "id": "KEUhGkqwUVjM",
        "colab_type": "code",
        "colab": {}
      },
      "cell_type": "code",
      "source": [
        "sns.set(rc={'figure.figsize':(11.7,8.27)})"
      ],
      "execution_count": 0,
      "outputs": []
    },
    {
      "metadata": {
        "id": "FVOrX2weUyo0",
        "colab_type": "code",
        "colab": {
          "base_uri": "https://localhost:8080/",
          "height": 197
        },
        "outputId": "3c65a29c-21ce-4bbb-e689-86d36f99f38e"
      },
      "cell_type": "code",
      "source": [
        "df = pd.read_csv(\"/content/Default Rate.csv\", sep = ',', index_col = 0)\n",
        "df.head()"
      ],
      "execution_count": 6,
      "outputs": [
        {
          "output_type": "execute_result",
          "data": {
            "text/html": [
              "<div>\n",
              "<style scoped>\n",
              "    .dataframe tbody tr th:only-of-type {\n",
              "        vertical-align: middle;\n",
              "    }\n",
              "\n",
              "    .dataframe tbody tr th {\n",
              "        vertical-align: top;\n",
              "    }\n",
              "\n",
              "    .dataframe thead th {\n",
              "        text-align: right;\n",
              "    }\n",
              "</style>\n",
              "<table border=\"1\" class=\"dataframe\">\n",
              "  <thead>\n",
              "    <tr style=\"text-align: right;\">\n",
              "      <th></th>\n",
              "      <th>default</th>\n",
              "      <th>student</th>\n",
              "      <th>balance</th>\n",
              "      <th>income</th>\n",
              "    </tr>\n",
              "  </thead>\n",
              "  <tbody>\n",
              "    <tr>\n",
              "      <th>1</th>\n",
              "      <td>No</td>\n",
              "      <td>No</td>\n",
              "      <td>729.526495</td>\n",
              "      <td>44361.625074</td>\n",
              "    </tr>\n",
              "    <tr>\n",
              "      <th>2</th>\n",
              "      <td>No</td>\n",
              "      <td>Yes</td>\n",
              "      <td>817.180407</td>\n",
              "      <td>12106.134700</td>\n",
              "    </tr>\n",
              "    <tr>\n",
              "      <th>3</th>\n",
              "      <td>No</td>\n",
              "      <td>No</td>\n",
              "      <td>1073.549164</td>\n",
              "      <td>31767.138947</td>\n",
              "    </tr>\n",
              "    <tr>\n",
              "      <th>4</th>\n",
              "      <td>No</td>\n",
              "      <td>No</td>\n",
              "      <td>529.250605</td>\n",
              "      <td>35704.493935</td>\n",
              "    </tr>\n",
              "    <tr>\n",
              "      <th>5</th>\n",
              "      <td>No</td>\n",
              "      <td>No</td>\n",
              "      <td>785.655883</td>\n",
              "      <td>38463.495879</td>\n",
              "    </tr>\n",
              "  </tbody>\n",
              "</table>\n",
              "</div>"
            ],
            "text/plain": [
              "  default student      balance        income\n",
              "1      No      No   729.526495  44361.625074\n",
              "2      No     Yes   817.180407  12106.134700\n",
              "3      No      No  1073.549164  31767.138947\n",
              "4      No      No   529.250605  35704.493935\n",
              "5      No      No   785.655883  38463.495879"
            ]
          },
          "metadata": {
            "tags": []
          },
          "execution_count": 6
        }
      ]
    },
    {
      "metadata": {
        "id": "ZPtGlH5VU-QH",
        "colab_type": "text"
      },
      "cell_type": "markdown",
      "source": [
        "**Loading the dataset**"
      ]
    },
    {
      "metadata": {
        "id": "ilGBLHOOVZ0u",
        "colab_type": "code",
        "colab": {
          "base_uri": "https://localhost:8080/",
          "height": 34
        },
        "outputId": "8d7ec211-443d-4c64-ab06-555f5a7aee09"
      },
      "cell_type": "code",
      "source": [
        "df.columns.tolist()"
      ],
      "execution_count": 7,
      "outputs": [
        {
          "output_type": "execute_result",
          "data": {
            "text/plain": [
              "['default', 'student', 'balance', 'income']"
            ]
          },
          "metadata": {
            "tags": []
          },
          "execution_count": 7
        }
      ]
    },
    {
      "metadata": {
        "id": "MDRDyii7Vdof",
        "colab_type": "text"
      },
      "cell_type": "markdown",
      "source": [
        "**DATA EXPLORATION**"
      ]
    },
    {
      "metadata": {
        "id": "mXo4Npi0VZ_9",
        "colab_type": "code",
        "colab": {
          "base_uri": "https://localhost:8080/",
          "height": 2470
        },
        "outputId": "d9c193ff-40bd-49c3-c54e-0b7123f09969"
      },
      "cell_type": "code",
      "source": [
        "for attr in df.columns:\n",
        "    print('\\n*' + attr +'*')\n",
        "    print(df[attr].value_counts())"
      ],
      "execution_count": 8,
      "outputs": [
        {
          "output_type": "stream",
          "text": [
            "\n",
            "*default*\n",
            "No     9667\n",
            "Yes     333\n",
            "Name: default, dtype: int64\n",
            "\n",
            "*student*\n",
            "No     7056\n",
            "Yes    2944\n",
            "Name: student, dtype: int64\n",
            "\n",
            "*balance*\n",
            "0.000000       499\n",
            "1500.894533      1\n",
            "1273.581981      1\n",
            "1033.455043      1\n",
            "500.252724       1\n",
            "1077.747127      1\n",
            "471.356517       1\n",
            "674.640159       1\n",
            "435.592200       1\n",
            "1829.909941      1\n",
            "714.397171       1\n",
            "1393.589491      1\n",
            "603.253138       1\n",
            "692.034167       1\n",
            "596.205214       1\n",
            "805.520628       1\n",
            "946.892056       1\n",
            "973.082364       1\n",
            "1553.289604      1\n",
            "438.625085       1\n",
            "1546.842501      1\n",
            "207.303809       1\n",
            "170.260237       1\n",
            "341.040379       1\n",
            "1007.277995      1\n",
            "631.172612       1\n",
            "1028.767207      1\n",
            "316.536435       1\n",
            "785.430997       1\n",
            "1335.028018      1\n",
            "              ... \n",
            "771.133261       1\n",
            "935.712944       1\n",
            "1549.042755      1\n",
            "1100.238779      1\n",
            "778.830166       1\n",
            "1024.408305      1\n",
            "1054.485054      1\n",
            "1163.083904      1\n",
            "1658.602257      1\n",
            "1318.719112      1\n",
            "221.334856       1\n",
            "781.613730       1\n",
            "230.230588       1\n",
            "561.343259       1\n",
            "2034.674718      1\n",
            "1169.834113      1\n",
            "799.516451       1\n",
            "1242.722943      1\n",
            "731.477128       1\n",
            "256.707071       1\n",
            "539.077721       1\n",
            "722.227333       1\n",
            "1201.348042      1\n",
            "127.222763       1\n",
            "4.679414         1\n",
            "619.540642       1\n",
            "982.514587       1\n",
            "194.193555       1\n",
            "275.063482       1\n",
            "701.691432       1\n",
            "Name: balance, Length: 9502, dtype: int64\n",
            "\n",
            "*income*\n",
            "24393.315952    1\n",
            "53542.412719    1\n",
            "36340.651071    1\n",
            "29899.822157    1\n",
            "37489.722114    1\n",
            "18520.063670    1\n",
            "17039.973318    1\n",
            "38152.696612    1\n",
            "47122.072471    1\n",
            "27750.821496    1\n",
            "55542.969629    1\n",
            "32089.624647    1\n",
            "41857.578028    1\n",
            "37936.043433    1\n",
            "32454.110153    1\n",
            "56375.721988    1\n",
            "35192.838867    1\n",
            "17400.390854    1\n",
            "24580.856839    1\n",
            "27374.887516    1\n",
            "19229.225870    1\n",
            "46541.649469    1\n",
            "49988.147314    1\n",
            "16002.355470    1\n",
            "21373.350095    1\n",
            "49672.347181    1\n",
            "46578.465511    1\n",
            "22669.424330    1\n",
            "38316.135437    1\n",
            "28370.865909    1\n",
            "               ..\n",
            "39712.958919    1\n",
            "41809.204177    1\n",
            "15557.632563    1\n",
            "20684.237415    1\n",
            "29580.069100    1\n",
            "38500.399597    1\n",
            "18234.459217    1\n",
            "16428.754555    1\n",
            "42495.462612    1\n",
            "41872.494763    1\n",
            "36947.778618    1\n",
            "34066.438115    1\n",
            "47729.625758    1\n",
            "33192.401796    1\n",
            "22308.125749    1\n",
            "12532.657524    1\n",
            "33808.336179    1\n",
            "17763.350303    1\n",
            "18195.266901    1\n",
            "16998.651715    1\n",
            "17645.305024    1\n",
            "27338.002709    1\n",
            "39718.949249    1\n",
            "30226.482724    1\n",
            "55163.796941    1\n",
            "32497.448858    1\n",
            "45104.094028    1\n",
            "27262.057981    1\n",
            "45430.472209    1\n",
            "53450.273587    1\n",
            "Name: income, Length: 10000, dtype: int64\n"
          ],
          "name": "stdout"
        }
      ]
    },
    {
      "metadata": {
        "id": "aOxt5mfGVaDV",
        "colab_type": "code",
        "colab": {
          "base_uri": "https://localhost:8080/",
          "height": 70
        },
        "outputId": "f3f3c385-be43-4e3e-c6f2-d36c776b981f"
      },
      "cell_type": "code",
      "source": [
        "df.default.value_counts(normalize=True)*100"
      ],
      "execution_count": 9,
      "outputs": [
        {
          "output_type": "execute_result",
          "data": {
            "text/plain": [
              "No     96.67\n",
              "Yes     3.33\n",
              "Name: default, dtype: float64"
            ]
          },
          "metadata": {
            "tags": []
          },
          "execution_count": 9
        }
      ]
    },
    {
      "metadata": {
        "id": "sVZ9tsSFVaGv",
        "colab_type": "code",
        "colab": {
          "base_uri": "https://localhost:8080/",
          "height": 34
        },
        "outputId": "7b83e178-2a67-4eea-8336-e1fca5e365f5"
      },
      "cell_type": "code",
      "source": [
        "df.shape"
      ],
      "execution_count": 10,
      "outputs": [
        {
          "output_type": "execute_result",
          "data": {
            "text/plain": [
              "(10000, 4)"
            ]
          },
          "metadata": {
            "tags": []
          },
          "execution_count": 10
        }
      ]
    },
    {
      "metadata": {
        "id": "Of-9XCDjVuJu",
        "colab_type": "code",
        "colab": {
          "base_uri": "https://localhost:8080/",
          "height": 212
        },
        "outputId": "f898f03f-de1f-42e6-e57f-9f6528e5b256"
      },
      "cell_type": "code",
      "source": [
        "print(df.info())\n",
        "print('--'*40)"
      ],
      "execution_count": 12,
      "outputs": [
        {
          "output_type": "stream",
          "text": [
            "<class 'pandas.core.frame.DataFrame'>\n",
            "Int64Index: 10000 entries, 1 to 10000\n",
            "Data columns (total 4 columns):\n",
            "default    10000 non-null object\n",
            "student    10000 non-null object\n",
            "balance    10000 non-null float64\n",
            "income     10000 non-null float64\n",
            "dtypes: float64(2), object(2)\n",
            "memory usage: 390.6+ KB\n",
            "None\n",
            "--------------------------------------------------------------------------------\n"
          ],
          "name": "stdout"
        }
      ]
    },
    {
      "metadata": {
        "id": "C2EEM3YdVuNp",
        "colab_type": "code",
        "colab": {
          "base_uri": "https://localhost:8080/",
          "height": 105
        },
        "outputId": "9426685f-612d-4587-db5b-8564a671185d"
      },
      "cell_type": "code",
      "source": [
        "#Check for missing values in the data set\n",
        "df.isnull().sum()"
      ],
      "execution_count": 13,
      "outputs": [
        {
          "output_type": "execute_result",
          "data": {
            "text/plain": [
              "default    0\n",
              "student    0\n",
              "balance    0\n",
              "income     0\n",
              "dtype: int64"
            ]
          },
          "metadata": {
            "tags": []
          },
          "execution_count": 13
        }
      ]
    },
    {
      "metadata": {
        "id": "jI7G14uKVuSs",
        "colab_type": "code",
        "colab": {
          "base_uri": "https://localhost:8080/",
          "height": 197
        },
        "outputId": "4017a866-e026-4b5c-c5b5-517e8acf9b43"
      },
      "cell_type": "code",
      "source": [
        "#Let us encode our target variable to 0 for 'yes' and 1 to represent 'no'\n",
        "df.replace(('Yes', 'No'), (1, 0), inplace=True) \n",
        "df.head()"
      ],
      "execution_count": 14,
      "outputs": [
        {
          "output_type": "execute_result",
          "data": {
            "text/html": [
              "<div>\n",
              "<style scoped>\n",
              "    .dataframe tbody tr th:only-of-type {\n",
              "        vertical-align: middle;\n",
              "    }\n",
              "\n",
              "    .dataframe tbody tr th {\n",
              "        vertical-align: top;\n",
              "    }\n",
              "\n",
              "    .dataframe thead th {\n",
              "        text-align: right;\n",
              "    }\n",
              "</style>\n",
              "<table border=\"1\" class=\"dataframe\">\n",
              "  <thead>\n",
              "    <tr style=\"text-align: right;\">\n",
              "      <th></th>\n",
              "      <th>default</th>\n",
              "      <th>student</th>\n",
              "      <th>balance</th>\n",
              "      <th>income</th>\n",
              "    </tr>\n",
              "  </thead>\n",
              "  <tbody>\n",
              "    <tr>\n",
              "      <th>1</th>\n",
              "      <td>0</td>\n",
              "      <td>0</td>\n",
              "      <td>729.526495</td>\n",
              "      <td>44361.625074</td>\n",
              "    </tr>\n",
              "    <tr>\n",
              "      <th>2</th>\n",
              "      <td>0</td>\n",
              "      <td>1</td>\n",
              "      <td>817.180407</td>\n",
              "      <td>12106.134700</td>\n",
              "    </tr>\n",
              "    <tr>\n",
              "      <th>3</th>\n",
              "      <td>0</td>\n",
              "      <td>0</td>\n",
              "      <td>1073.549164</td>\n",
              "      <td>31767.138947</td>\n",
              "    </tr>\n",
              "    <tr>\n",
              "      <th>4</th>\n",
              "      <td>0</td>\n",
              "      <td>0</td>\n",
              "      <td>529.250605</td>\n",
              "      <td>35704.493935</td>\n",
              "    </tr>\n",
              "    <tr>\n",
              "      <th>5</th>\n",
              "      <td>0</td>\n",
              "      <td>0</td>\n",
              "      <td>785.655883</td>\n",
              "      <td>38463.495879</td>\n",
              "    </tr>\n",
              "  </tbody>\n",
              "</table>\n",
              "</div>"
            ],
            "text/plain": [
              "   default  student      balance        income\n",
              "1        0        0   729.526495  44361.625074\n",
              "2        0        1   817.180407  12106.134700\n",
              "3        0        0  1073.549164  31767.138947\n",
              "4        0        0   529.250605  35704.493935\n",
              "5        0        0   785.655883  38463.495879"
            ]
          },
          "metadata": {
            "tags": []
          },
          "execution_count": 14
        }
      ]
    },
    {
      "metadata": {
        "id": "EbrL2PhQiC7U",
        "colab_type": "code",
        "colab": {
          "base_uri": "https://localhost:8080/",
          "height": 528
        },
        "outputId": "87a27882-7f90-456b-e804-223abda9015d"
      },
      "cell_type": "code",
      "source": [
        "sns.countplot('default', data=df)"
      ],
      "execution_count": 79,
      "outputs": [
        {
          "output_type": "execute_result",
          "data": {
            "text/plain": [
              "<matplotlib.axes._subplots.AxesSubplot at 0x7f57aaf22940>"
            ]
          },
          "metadata": {
            "tags": []
          },
          "execution_count": 79
        },
        {
          "output_type": "display_data",
          "data": {
            "image/png": "[encoded data removed]",
            "text/plain": [
              "<Figure size 842.4x595.44 with 1 Axes>"
            ]
          },
          "metadata": {
            "tags": []
          }
        }
      ]
    },
    {
      "metadata": {
        "id": "sOCjxo3GiHHD",
        "colab_type": "text"
      },
      "cell_type": "markdown",
      "source": [
        "**EXPLORATORY DATA ANALYSIS**"
      ]
    },
    {
      "metadata": {
        "id": "qaLOCJ-OiDH9",
        "colab_type": "code",
        "colab": {
          "base_uri": "https://localhost:8080/",
          "height": 52
        },
        "outputId": "c104fbff-55bb-417e-e501-0c907616d022"
      },
      "cell_type": "code",
      "source": [
        "# now let us check in the number of Percentage\n",
        "Count_Non_defaulters = len(df[df[\"default\"]==0]) # non defaulters are repersented by 0\n",
        "Count_defaulters = len(df[df[\"default\"]==1]) #  defaulters by 1\n",
        "Percentage_of_Non_defaulters = Count_Non_defaulters/(Count_Non_defaulters+Count_defaulters)\n",
        "print(\"percentage of  non defaulters is\",Percentage_of_Non_defaulters*100)\n",
        "Percentage_of_defaulters= Count_defaulters/(Count_Non_defaulters+Count_defaulters)\n",
        "print(\"percentage of defaulters\",Percentage_of_defaulters*100)"
      ],
      "execution_count": 83,
      "outputs": [
        {
          "output_type": "stream",
          "text": [
            "percentage of  non defaulters is 96.67\n",
            "percentage of defaulters 3.3300000000000005\n"
          ],
          "name": "stdout"
        }
      ]
    },
    {
      "metadata": {
        "id": "L2sZsv5riDTI",
        "colab_type": "code",
        "colab": {
          "base_uri": "https://localhost:8080/",
          "height": 406
        },
        "outputId": "c3218591-e84d-4875-ce2a-27f6dc9b0125"
      },
      "cell_type": "code",
      "source": [
        "Defaulters_income = df[df[\"default\"]==1]\n",
        "Nondefaulters_income= df[df[\"default\"]==0]\n",
        "plt.figure(figsize=(10,6))\n",
        "plt.subplot(121)\n",
        "Defaulters_income.income.plot.hist(title=\"Defaulters_income\")\n",
        "plt.subplot(122)\n",
        "Nondefaulters_income.income.plot.hist(title=\"Nondefaulters_income\")"
      ],
      "execution_count": 86,
      "outputs": [
        {
          "output_type": "execute_result",
          "data": {
            "text/plain": [
              "<matplotlib.axes._subplots.AxesSubplot at 0x7f57aad0ebe0>"
            ]
          },
          "metadata": {
            "tags": []
          },
          "execution_count": 86
        },
        {
          "output_type": "display_data",
          "data": {
            "image/png": "[encoded data removed]",
            "text/plain": [
              "<Figure size 720x432 with 2 Axes>"
            ]
          },
          "metadata": {
            "tags": []
          }
        }
      ]
    },
    {
      "metadata": {
        "id": "IlpZkS5yiDhS",
        "colab_type": "code",
        "colab": {
          "base_uri": "https://localhost:8080/",
          "height": 547
        },
        "outputId": "6a5fd6f6-4be1-4132-e5c6-b4c40474fd81"
      },
      "cell_type": "code",
      "source": [
        "df.hist(column='income', bins=50)"
      ],
      "execution_count": 88,
      "outputs": [
        {
          "output_type": "execute_result",
          "data": {
            "text/plain": [
              "array([[<matplotlib.axes._subplots.AxesSubplot object at 0x7f57aad6a710>]],\n",
              "      dtype=object)"
            ]
          },
          "metadata": {
            "tags": []
          },
          "execution_count": 88
        },
        {
          "output_type": "display_data",
          "data": {
            "image/png": "[encoded data removed]",
            "text/plain": [
              "<Figure size 842.4x595.44 with 1 Axes>"
            ]
          },
          "metadata": {
            "tags": []
          }
        }
      ]
    },
    {
      "metadata": {
        "id": "qz5-735qkLAA",
        "colab_type": "code",
        "colab": {
          "base_uri": "https://localhost:8080/",
          "height": 528
        },
        "outputId": "f5c8544c-4bf2-4003-ddee-d01c54f1b8f8"
      },
      "cell_type": "code",
      "source": [
        "sns.distplot(df['balance'], bins=30)"
      ],
      "execution_count": 89,
      "outputs": [
        {
          "output_type": "execute_result",
          "data": {
            "text/plain": [
              "<matplotlib.axes._subplots.AxesSubplot at 0x7f57aaedffd0>"
            ]
          },
          "metadata": {
            "tags": []
          },
          "execution_count": 89
        },
        {
          "output_type": "display_data",
          "data": {
            "image/png": "[encoded data removed]",
            "text/plain": [
              "<Figure size 842.4x595.44 with 1 Axes>"
            ]
          },
          "metadata": {
            "tags": []
          }
        }
      ]
    },
    {
      "metadata": {
        "id": "6CZs2S85VuWr",
        "colab_type": "code",
        "colab": {
          "base_uri": "https://localhost:8080/",
          "height": 70
        },
        "outputId": "1238d590-4994-4dcf-9b61-14bf9caf93c2"
      },
      "cell_type": "code",
      "source": [
        "df.default.value_counts()"
      ],
      "execution_count": 15,
      "outputs": [
        {
          "output_type": "execute_result",
          "data": {
            "text/plain": [
              "0    9667\n",
              "1     333\n",
              "Name: default, dtype: int64"
            ]
          },
          "metadata": {
            "tags": []
          },
          "execution_count": 15
        }
      ]
    },
    {
      "metadata": {
        "id": "LMcMniTEV8Wh",
        "colab_type": "text"
      },
      "cell_type": "markdown",
      "source": [
        "**Check for imbalancing in the response variable of the training dataset**"
      ]
    },
    {
      "metadata": {
        "id": "w10fbH6aVuc6",
        "colab_type": "code",
        "colab": {
          "base_uri": "https://localhost:8080/",
          "height": 70
        },
        "outputId": "e62cc3c2-a235-4507-8779-8ef09039bb59"
      },
      "cell_type": "code",
      "source": [
        "df.default.value_counts(normalize=True)*100"
      ],
      "execution_count": 16,
      "outputs": [
        {
          "output_type": "execute_result",
          "data": {
            "text/plain": [
              "0    96.67\n",
              "1     3.33\n",
              "Name: default, dtype: float64"
            ]
          },
          "metadata": {
            "tags": []
          },
          "execution_count": 16
        }
      ]
    },
    {
      "metadata": {
        "id": "9UPp23JJWFkc",
        "colab_type": "text"
      },
      "cell_type": "markdown",
      "source": [
        "**The response variable in the training set is imbalanced since its 96.67% Yes and 3.33% No**"
      ]
    },
    {
      "metadata": {
        "id": "i3AQaNjpVug-",
        "colab_type": "code",
        "colab": {
          "base_uri": "https://localhost:8080/",
          "height": 105
        },
        "outputId": "30a927dd-3bdd-4b7b-c21b-797471cc6daa"
      },
      "cell_type": "code",
      "source": [
        "X = df[['student', 'balance','income']] .values.astype(float)\n",
        "X[0:5]"
      ],
      "execution_count": 17,
      "outputs": [
        {
          "output_type": "execute_result",
          "data": {
            "text/plain": [
              "array([[0.00000000e+00, 7.29526495e+02, 4.43616251e+04],\n",
              "       [1.00000000e+00, 8.17180407e+02, 1.21061347e+04],\n",
              "       [0.00000000e+00, 1.07354916e+03, 3.17671389e+04],\n",
              "       [0.00000000e+00, 5.29250605e+02, 3.57044939e+04],\n",
              "       [0.00000000e+00, 7.85655883e+02, 3.84634959e+04]])"
            ]
          },
          "metadata": {
            "tags": []
          },
          "execution_count": 17
        }
      ]
    },
    {
      "metadata": {
        "id": "YvennPCLWLPK",
        "colab_type": "text"
      },
      "cell_type": "markdown",
      "source": [
        "**FEATURE SELECTION**"
      ]
    },
    {
      "metadata": {
        "id": "v26b58wkVumI",
        "colab_type": "code",
        "colab": {}
      },
      "cell_type": "code",
      "source": [
        "import statsmodels.api as sm\n",
        "import statsmodels.formula.api as smf\n",
        "from sklearn.model_selection import train_test_split"
      ],
      "execution_count": 0,
      "outputs": []
    },
    {
      "metadata": {
        "id": "s3qHVzZgWWRg",
        "colab_type": "code",
        "colab": {
          "base_uri": "https://localhost:8080/",
          "height": 514
        },
        "outputId": "807ac0a2-996e-4336-84b4-8e97059784d9"
      },
      "cell_type": "code",
      "source": [
        "logres1 = smf.ols('default ~ student + balance',data=df).fit()\n",
        "print(logres1.summary())"
      ],
      "execution_count": 19,
      "outputs": [
        {
          "output_type": "stream",
          "text": [
            "                            OLS Regression Results                            \n",
            "==============================================================================\n",
            "Dep. Variable:                default   R-squared:                       0.124\n",
            "Model:                            OLS   Adj. R-squared:                  0.124\n",
            "Method:                 Least Squares   F-statistic:                     707.1\n",
            "Date:                Wed, 13 Mar 2019   Prob (F-statistic):          6.21e-288\n",
            "Time:                        00:29:29   Log-Likelihood:                 3652.5\n",
            "No. Observations:               10000   AIC:                            -7299.\n",
            "Df Residuals:                    9997   BIC:                            -7277.\n",
            "Df Model:                           2                                         \n",
            "Covariance Type:            nonrobust                                         \n",
            "==============================================================================\n",
            "                 coef    std err          t      P>|t|      [0.025      0.975]\n",
            "------------------------------------------------------------------------------\n",
            "Intercept     -0.0732      0.003    -21.599      0.000      -0.080      -0.067\n",
            "student       -0.0147      0.004     -3.912      0.000      -0.022      -0.007\n",
            "balance        0.0001   3.55e-06     37.414      0.000       0.000       0.000\n",
            "==============================================================================\n",
            "Omnibus:                     8531.043   Durbin-Watson:                   2.022\n",
            "Prob(Omnibus):                  0.000   Jarque-Bera (JB):           179544.025\n",
            "Skew:                           4.232   Prob(JB):                         0.00\n",
            "Kurtosis:                      21.954   Cond. No.                     2.24e+03\n",
            "==============================================================================\n",
            "\n",
            "Warnings:\n",
            "[1] Standard Errors assume that the covariance matrix of the errors is correctly specified.\n",
            "[2] The condition number is large, 2.24e+03. This might indicate that there are\n",
            "strong multicollinearity or other numerical problems.\n"
          ],
          "name": "stdout"
        }
      ]
    },
    {
      "metadata": {
        "id": "qe8bLr2eWdG1",
        "colab_type": "text"
      },
      "cell_type": "markdown",
      "source": [
        "All explanatory variables are significantly associated to the response variable.\n",
        "\n",
        "We proceed to train our imbalanced data sets then later balance the two sets and compare their performance"
      ]
    },
    {
      "metadata": {
        "id": "N_AJ4p19WWVk",
        "colab_type": "code",
        "colab": {
          "base_uri": "https://localhost:8080/",
          "height": 34
        },
        "outputId": "6a0d3b84-857f-4f8b-b206-96eae5ef7ccb"
      },
      "cell_type": "code",
      "source": [
        "X_train = df.drop('default',axis=1)\n",
        "y_train = df['default']\n",
        "X_train.shape,y_train.shape"
      ],
      "execution_count": 20,
      "outputs": [
        {
          "output_type": "execute_result",
          "data": {
            "text/plain": [
              "((10000, 3), (10000,))"
            ]
          },
          "metadata": {
            "tags": []
          },
          "execution_count": 20
        }
      ]
    },
    {
      "metadata": {
        "id": "wPFbcJc5WWZd",
        "colab_type": "code",
        "colab": {
          "base_uri": "https://localhost:8080/",
          "height": 105
        },
        "outputId": "e6ab32df-f48a-4547-99d1-d5487736cf7f"
      },
      "cell_type": "code",
      "source": [
        "feature_df = df[['student', 'balance','income']]\n",
        "X = np.asarray(feature_df)\n",
        "X[0:5]"
      ],
      "execution_count": 21,
      "outputs": [
        {
          "output_type": "execute_result",
          "data": {
            "text/plain": [
              "array([[0.00000000e+00, 7.29526495e+02, 4.43616251e+04],\n",
              "       [1.00000000e+00, 8.17180407e+02, 1.21061347e+04],\n",
              "       [0.00000000e+00, 1.07354916e+03, 3.17671389e+04],\n",
              "       [0.00000000e+00, 5.29250605e+02, 3.57044939e+04],\n",
              "       [0.00000000e+00, 7.85655883e+02, 3.84634959e+04]])"
            ]
          },
          "metadata": {
            "tags": []
          },
          "execution_count": 21
        }
      ]
    },
    {
      "metadata": {
        "id": "m84Bn3h_Vuqu",
        "colab_type": "code",
        "colab": {
          "base_uri": "https://localhost:8080/",
          "height": 34
        },
        "outputId": "8b304332-c6f6-4d2c-9749-91dca847b666"
      },
      "cell_type": "code",
      "source": [
        "df['default'] = df['default'].astype('int')\n",
        "y = np.asarray(df['default'])\n",
        "y [0:5]"
      ],
      "execution_count": 22,
      "outputs": [
        {
          "output_type": "execute_result",
          "data": {
            "text/plain": [
              "array([0, 0, 0, 0, 0])"
            ]
          },
          "metadata": {
            "tags": []
          },
          "execution_count": 22
        }
      ]
    },
    {
      "metadata": {
        "id": "oI9SysMKVuxX",
        "colab_type": "code",
        "colab": {
          "base_uri": "https://localhost:8080/",
          "height": 52
        },
        "outputId": "7b73cea4-2fca-4eb5-fdde-ee1eccb189e7"
      },
      "cell_type": "code",
      "source": [
        "X_train, X_test, y_train, y_test = train_test_split( X, y, test_size=0.2, random_state=4)\n",
        "print ('Train set:', X_train.shape,  y_train.shape)\n",
        "print ('Test set:', X_test.shape,  y_test.shape)"
      ],
      "execution_count": 23,
      "outputs": [
        {
          "output_type": "stream",
          "text": [
            "Train set: (8000, 3) (8000,)\n",
            "Test set: (2000, 3) (2000,)\n"
          ],
          "name": "stdout"
        }
      ]
    },
    {
      "metadata": {
        "id": "Us4meQLZVu2l",
        "colab_type": "code",
        "colab": {
          "base_uri": "https://localhost:8080/",
          "height": 70
        },
        "outputId": "05cc9517-ffe6-4e3e-ed22-fba3df3742dd"
      },
      "cell_type": "code",
      "source": [
        "knn = KNeighborsClassifier(n_neighbors=3)\n",
        "knn.fit(X_train,y_train)"
      ],
      "execution_count": 24,
      "outputs": [
        {
          "output_type": "execute_result",
          "data": {
            "text/plain": [
              "KNeighborsClassifier(algorithm='auto', leaf_size=30, metric='minkowski',\n",
              "           metric_params=None, n_jobs=None, n_neighbors=3, p=2,\n",
              "           weights='uniform')"
            ]
          },
          "metadata": {
            "tags": []
          },
          "execution_count": 24
        }
      ]
    },
    {
      "metadata": {
        "id": "aJUa4IHQW9Ao",
        "colab_type": "text"
      },
      "cell_type": "markdown",
      "source": [
        "**K-Nearest Neighbor(KNN)**"
      ]
    },
    {
      "metadata": {
        "id": "ZqmmH7l8Vu1Y",
        "colab_type": "code",
        "colab": {}
      },
      "cell_type": "code",
      "source": [
        "Y_pred = knn.predict(X_test)"
      ],
      "execution_count": 0,
      "outputs": []
    },
    {
      "metadata": {
        "id": "03m-jXCnXDb2",
        "colab_type": "code",
        "colab": {
          "base_uri": "https://localhost:8080/",
          "height": 34
        },
        "outputId": "5b87dd7d-cdad-449a-fd28-18e5aed4a28b"
      },
      "cell_type": "code",
      "source": [
        "knn_score = accuracy_score(y_test,Y_pred)*100\n",
        "knn_score"
      ],
      "execution_count": 26,
      "outputs": [
        {
          "output_type": "execute_result",
          "data": {
            "text/plain": [
              "96.45"
            ]
          },
          "metadata": {
            "tags": []
          },
          "execution_count": 26
        }
      ]
    },
    {
      "metadata": {
        "id": "VF9MQ0jwXDfY",
        "colab_type": "code",
        "colab": {
          "base_uri": "https://localhost:8080/",
          "height": 176
        },
        "outputId": "9d488a34-bd16-4b7f-c299-348f4287dc1e"
      },
      "cell_type": "code",
      "source": [
        "print(classification_report(y_test,Y_pred))"
      ],
      "execution_count": 27,
      "outputs": [
        {
          "output_type": "stream",
          "text": [
            "              precision    recall  f1-score   support\n",
            "\n",
            "           0       0.97      0.99      0.98      1931\n",
            "           1       0.46      0.16      0.24        69\n",
            "\n",
            "   micro avg       0.96      0.96      0.96      2000\n",
            "   macro avg       0.71      0.58      0.61      2000\n",
            "weighted avg       0.95      0.96      0.96      2000\n",
            "\n"
          ],
          "name": "stdout"
        }
      ]
    },
    {
      "metadata": {
        "id": "2DAX-FGpXDlH",
        "colab_type": "code",
        "colab": {}
      },
      "cell_type": "code",
      "source": [
        "from sklearn.tree import DecisionTreeClassifier"
      ],
      "execution_count": 0,
      "outputs": []
    },
    {
      "metadata": {
        "id": "RJkTfMDSXSuY",
        "colab_type": "text"
      },
      "cell_type": "markdown",
      "source": [
        "**Decision Tree**"
      ]
    },
    {
      "metadata": {
        "id": "bXxMVE_kXDt-",
        "colab_type": "code",
        "colab": {
          "base_uri": "https://localhost:8080/",
          "height": 123
        },
        "outputId": "a13e1346-d5dc-4676-fff3-ea5795614dbc"
      },
      "cell_type": "code",
      "source": [
        "dtree = DecisionTreeClassifier()\n",
        "dtree.fit(X_train,y_train)"
      ],
      "execution_count": 29,
      "outputs": [
        {
          "output_type": "execute_result",
          "data": {
            "text/plain": [
              "DecisionTreeClassifier(class_weight=None, criterion='gini', max_depth=None,\n",
              "            max_features=None, max_leaf_nodes=None,\n",
              "            min_impurity_decrease=0.0, min_impurity_split=None,\n",
              "            min_samples_leaf=1, min_samples_split=2,\n",
              "            min_weight_fraction_leaf=0.0, presort=False, random_state=None,\n",
              "            splitter='best')"
            ]
          },
          "metadata": {
            "tags": []
          },
          "execution_count": 29
        }
      ]
    },
    {
      "metadata": {
        "id": "_fZd51r0XDxS",
        "colab_type": "code",
        "colab": {}
      },
      "cell_type": "code",
      "source": [
        "Y_pred = dtree.predict(X_test)"
      ],
      "execution_count": 0,
      "outputs": []
    },
    {
      "metadata": {
        "id": "IKuo635QXD2_",
        "colab_type": "code",
        "colab": {
          "base_uri": "https://localhost:8080/",
          "height": 34
        },
        "outputId": "9a9fa074-d211-4ed9-b74d-7d01cb934952"
      },
      "cell_type": "code",
      "source": [
        "dtree_score = accuracy_score(y_test,Y_pred)*100\n",
        "dtree_score"
      ],
      "execution_count": 31,
      "outputs": [
        {
          "output_type": "execute_result",
          "data": {
            "text/plain": [
              "95.5"
            ]
          },
          "metadata": {
            "tags": []
          },
          "execution_count": 31
        }
      ]
    },
    {
      "metadata": {
        "id": "qXx_eXEmXD7b",
        "colab_type": "code",
        "colab": {
          "base_uri": "https://localhost:8080/",
          "height": 176
        },
        "outputId": "e4d41b71-2a62-4488-a13a-4b0b835b9be2"
      },
      "cell_type": "code",
      "source": [
        "print(classification_report(y_test,Y_pred))"
      ],
      "execution_count": 32,
      "outputs": [
        {
          "output_type": "stream",
          "text": [
            "              precision    recall  f1-score   support\n",
            "\n",
            "           0       0.98      0.98      0.98      1931\n",
            "           1       0.36      0.38      0.37        69\n",
            "\n",
            "   micro avg       0.95      0.95      0.95      2000\n",
            "   macro avg       0.67      0.68      0.67      2000\n",
            "weighted avg       0.96      0.95      0.96      2000\n",
            "\n"
          ],
          "name": "stdout"
        }
      ]
    },
    {
      "metadata": {
        "id": "j1aFoV_KXD07",
        "colab_type": "code",
        "colab": {}
      },
      "cell_type": "code",
      "source": [
        "from sklearn.ensemble import RandomForestClassifier"
      ],
      "execution_count": 0,
      "outputs": []
    },
    {
      "metadata": {
        "id": "t47gfOhiXj2k",
        "colab_type": "text"
      },
      "cell_type": "markdown",
      "source": [
        "**Random Forest**"
      ]
    },
    {
      "metadata": {
        "id": "Mt1SwmbeXDre",
        "colab_type": "code",
        "colab": {
          "base_uri": "https://localhost:8080/",
          "height": 141
        },
        "outputId": "0cf5b900-da6e-4354-c808-ea204ec2d0a7"
      },
      "cell_type": "code",
      "source": [
        "random_forest = RandomForestClassifier(n_estimators=100)\n",
        "random_forest.fit(X_train,y_train)"
      ],
      "execution_count": 34,
      "outputs": [
        {
          "output_type": "execute_result",
          "data": {
            "text/plain": [
              "RandomForestClassifier(bootstrap=True, class_weight=None, criterion='gini',\n",
              "            max_depth=None, max_features='auto', max_leaf_nodes=None,\n",
              "            min_impurity_decrease=0.0, min_impurity_split=None,\n",
              "            min_samples_leaf=1, min_samples_split=2,\n",
              "            min_weight_fraction_leaf=0.0, n_estimators=100, n_jobs=None,\n",
              "            oob_score=False, random_state=None, verbose=0,\n",
              "            warm_start=False)"
            ]
          },
          "metadata": {
            "tags": []
          },
          "execution_count": 34
        }
      ]
    },
    {
      "metadata": {
        "id": "bC8CBBaIXDpB",
        "colab_type": "code",
        "colab": {}
      },
      "cell_type": "code",
      "source": [
        "Y_pred = random_forest.predict(X_test)"
      ],
      "execution_count": 0,
      "outputs": []
    },
    {
      "metadata": {
        "id": "SXd7WRkOXDjD",
        "colab_type": "code",
        "colab": {
          "base_uri": "https://localhost:8080/",
          "height": 34
        },
        "outputId": "5f434ea0-9494-42a3-c72f-0fbbb727f247"
      },
      "cell_type": "code",
      "source": [
        "'''mat = confusion_matrix(y_test, Y_pred)\n",
        "sns.heatmap(mat, square=True, annot=True,fmt='d', cbar=False)\n",
        "plt.xlabel('true label')\n",
        "plt.ylabel('predicted label')'''"
      ],
      "execution_count": 36,
      "outputs": [
        {
          "output_type": "execute_result",
          "data": {
            "text/plain": [
              "\"mat = confusion_matrix(y_test, Y_pred)\\nsns.heatmap(mat, square=True, annot=True,fmt='d', cbar=False)\\nplt.xlabel('true label')\\nplt.ylabel('predicted label')\""
            ]
          },
          "metadata": {
            "tags": []
          },
          "execution_count": 36
        }
      ]
    },
    {
      "metadata": {
        "id": "iolQH8jSVuvF",
        "colab_type": "code",
        "colab": {
          "base_uri": "https://localhost:8080/",
          "height": 34
        },
        "outputId": "7f67bcea-7cf6-4b3c-dca1-339c6b685ce4"
      },
      "cell_type": "code",
      "source": [
        "random_forest_acc = accuracy_score(y_test,Y_pred)*100\n",
        "random_forest_acc"
      ],
      "execution_count": 37,
      "outputs": [
        {
          "output_type": "execute_result",
          "data": {
            "text/plain": [
              "97.0"
            ]
          },
          "metadata": {
            "tags": []
          },
          "execution_count": 37
        }
      ]
    },
    {
      "metadata": {
        "id": "n5dDWtILXyFh",
        "colab_type": "code",
        "colab": {
          "base_uri": "https://localhost:8080/",
          "height": 176
        },
        "outputId": "1ecb9ffb-8c4e-47f1-8876-7245e0298154"
      },
      "cell_type": "code",
      "source": [
        "print(classification_report(y_test,Y_pred))"
      ],
      "execution_count": 38,
      "outputs": [
        {
          "output_type": "stream",
          "text": [
            "              precision    recall  f1-score   support\n",
            "\n",
            "           0       0.98      0.99      0.98      1931\n",
            "           1       0.62      0.35      0.44        69\n",
            "\n",
            "   micro avg       0.97      0.97      0.97      2000\n",
            "   macro avg       0.80      0.67      0.71      2000\n",
            "weighted avg       0.96      0.97      0.97      2000\n",
            "\n"
          ],
          "name": "stdout"
        }
      ]
    },
    {
      "metadata": {
        "id": "QXaLTAuxXyQ2",
        "colab_type": "code",
        "colab": {
          "base_uri": "https://localhost:8080/",
          "height": 34
        },
        "outputId": "f8af51fe-c5ae-48db-f69e-213fdc63c468"
      },
      "cell_type": "code",
      "source": [
        "naive_bayes = GaussianNB()\n",
        "naive_bayes.fit(X_train,y_train)"
      ],
      "execution_count": 39,
      "outputs": [
        {
          "output_type": "execute_result",
          "data": {
            "text/plain": [
              "GaussianNB(priors=None, var_smoothing=1e-09)"
            ]
          },
          "metadata": {
            "tags": []
          },
          "execution_count": 39
        }
      ]
    },
    {
      "metadata": {
        "id": "7idmRZEkX9iO",
        "colab_type": "text"
      },
      "cell_type": "markdown",
      "source": [
        "**Naive Bayes**"
      ]
    },
    {
      "metadata": {
        "id": "3cVX5ATCXyXE",
        "colab_type": "code",
        "colab": {}
      },
      "cell_type": "code",
      "source": [
        "Y_pred = naive_bayes.predict(X_test)"
      ],
      "execution_count": 0,
      "outputs": []
    },
    {
      "metadata": {
        "id": "odx-hNlnXybc",
        "colab_type": "code",
        "colab": {
          "base_uri": "https://localhost:8080/",
          "height": 34
        },
        "outputId": "cb3b8171-7c50-4ef8-ff04-b3b36c954df4"
      },
      "cell_type": "code",
      "source": [
        "naive_score = accuracy_score(y_test,Y_pred)*100\n",
        "naive_score"
      ],
      "execution_count": 41,
      "outputs": [
        {
          "output_type": "execute_result",
          "data": {
            "text/plain": [
              "97.15"
            ]
          },
          "metadata": {
            "tags": []
          },
          "execution_count": 41
        }
      ]
    },
    {
      "metadata": {
        "id": "7tNOfPaHXymN",
        "colab_type": "code",
        "colab": {
          "base_uri": "https://localhost:8080/",
          "height": 176
        },
        "outputId": "2c722e5f-9ec4-4629-d1f5-5dd41a2415a9"
      },
      "cell_type": "code",
      "source": [
        "print(classification_report(y_test,Y_pred))"
      ],
      "execution_count": 42,
      "outputs": [
        {
          "output_type": "stream",
          "text": [
            "              precision    recall  f1-score   support\n",
            "\n",
            "           0       0.98      1.00      0.99      1931\n",
            "           1       0.71      0.29      0.41        69\n",
            "\n",
            "   micro avg       0.97      0.97      0.97      2000\n",
            "   macro avg       0.84      0.64      0.70      2000\n",
            "weighted avg       0.97      0.97      0.97      2000\n",
            "\n"
          ],
          "name": "stdout"
        }
      ]
    },
    {
      "metadata": {
        "id": "RwdfAJ-TXyqP",
        "colab_type": "code",
        "colab": {
          "base_uri": "https://localhost:8080/",
          "height": 167
        },
        "outputId": "23ebe694-83e0-4a14-ea82-0c6d7609e249"
      },
      "cell_type": "code",
      "source": [
        "models = pd.DataFrame({'Model':['KNN','Decision Tree','Random Forest','Naive Bayes'],\n",
        "                      'Score':[knn_score,dtree_score,random_forest_acc,naive_score]})\n",
        "models.sort_values(by='Score',ascending=False)"
      ],
      "execution_count": 92,
      "outputs": [
        {
          "output_type": "execute_result",
          "data": {
            "text/html": [
              "<div>\n",
              "<style scoped>\n",
              "    .dataframe tbody tr th:only-of-type {\n",
              "        vertical-align: middle;\n",
              "    }\n",
              "\n",
              "    .dataframe tbody tr th {\n",
              "        vertical-align: top;\n",
              "    }\n",
              "\n",
              "    .dataframe thead th {\n",
              "        text-align: right;\n",
              "    }\n",
              "</style>\n",
              "<table border=\"1\" class=\"dataframe\">\n",
              "  <thead>\n",
              "    <tr style=\"text-align: right;\">\n",
              "      <th></th>\n",
              "      <th>Model</th>\n",
              "      <th>Score</th>\n",
              "    </tr>\n",
              "  </thead>\n",
              "  <tbody>\n",
              "    <tr>\n",
              "      <th>3</th>\n",
              "      <td>Naive Bayes</td>\n",
              "      <td>97.15</td>\n",
              "    </tr>\n",
              "    <tr>\n",
              "      <th>2</th>\n",
              "      <td>Random Forest</td>\n",
              "      <td>97.00</td>\n",
              "    </tr>\n",
              "    <tr>\n",
              "      <th>0</th>\n",
              "      <td>KNN</td>\n",
              "      <td>96.45</td>\n",
              "    </tr>\n",
              "    <tr>\n",
              "      <th>1</th>\n",
              "      <td>Decision Tree</td>\n",
              "      <td>95.50</td>\n",
              "    </tr>\n",
              "  </tbody>\n",
              "</table>\n",
              "</div>"
            ],
            "text/plain": [
              "           Model  Score\n",
              "3    Naive Bayes  97.15\n",
              "2  Random Forest  97.00\n",
              "0            KNN  96.45\n",
              "1  Decision Tree  95.50"
            ]
          },
          "metadata": {
            "tags": []
          },
          "execution_count": 92
        }
      ]
    },
    {
      "metadata": {
        "id": "do2VCvvIYOau",
        "colab_type": "text"
      },
      "cell_type": "markdown",
      "source": [
        "**Naive Bayes has the highest accuracy at 97.15%**"
      ]
    },
    {
      "metadata": {
        "id": "diV7X7TVXyws",
        "colab_type": "code",
        "colab": {}
      },
      "cell_type": "code",
      "source": [
        "from imblearn.over_sampling import SMOTE\n",
        "from sklearn.model_selection import GridSearchCV\n",
        "from collections import Counter"
      ],
      "execution_count": 0,
      "outputs": []
    },
    {
      "metadata": {
        "id": "mifaOoYNYXyI",
        "colab_type": "text"
      },
      "cell_type": "markdown",
      "source": [
        "**Handling imbalanced Data Sets**"
      ]
    },
    {
      "metadata": {
        "id": "NNxXHFA8Xy3N",
        "colab_type": "code",
        "colab": {
          "base_uri": "https://localhost:8080/",
          "height": 87
        },
        "outputId": "7e799d5a-5e7b-4689-8588-defa172b163a"
      },
      "cell_type": "code",
      "source": [
        "X_train_resampled,y_train_resampled = SMOTE().fit_sample(X_train,y_train)\n",
        "X_test_resampled,y_test_resampled = SMOTE().fit_sample(X_test,y_test)\n",
        "print(\"Resampled training set:\")\n",
        "print(sorted(Counter(y_train_resampled).items()))\n",
        "\n",
        "print(\"Resampled testing set:\")\n",
        "print(sorted(Counter(y_test_resampled).items()))"
      ],
      "execution_count": 46,
      "outputs": [
        {
          "output_type": "stream",
          "text": [
            "Resampled training set:\n",
            "[(0, 7736), (1, 7736)]\n",
            "Resampled testing set:\n",
            "[(0, 1931), (1, 1931)]\n"
          ],
          "name": "stdout"
        }
      ]
    },
    {
      "metadata": {
        "id": "-uhMxEDSXy04",
        "colab_type": "code",
        "colab": {
          "base_uri": "https://localhost:8080/",
          "height": 176
        },
        "outputId": "c5da38d8-644a-4168-ec46-d6f400971865"
      },
      "cell_type": "code",
      "source": [
        "#Logistic Regression with Cross Validation\n",
        "tuned_parameters = [{'C': [10**-4, 10**-2, 10**0, 10**2, 10**4]}]\n",
        "lr = LogisticRegression(random_state=42)\n",
        "log_reg = GridSearchCV(lr, tuned_parameters, cv=10)\n",
        "log_reg.fit(X_train_resampled,y_train_resampled)"
      ],
      "execution_count": 47,
      "outputs": [
        {
          "output_type": "execute_result",
          "data": {
            "text/plain": [
              "GridSearchCV(cv=10, error_score='raise-deprecating',\n",
              "       estimator=LogisticRegression(C=1.0, class_weight=None, dual=False, fit_intercept=True,\n",
              "          intercept_scaling=1, max_iter=100, multi_class='warn',\n",
              "          n_jobs=None, penalty='l2', random_state=42, solver='warn',\n",
              "          tol=0.0001, verbose=0, warm_start=False),\n",
              "       fit_params=None, iid='warn', n_jobs=None,\n",
              "       param_grid=[{'C': [0.0001, 0.01, 1, 100, 10000]}],\n",
              "       pre_dispatch='2*n_jobs', refit=True, return_train_score='warn',\n",
              "       scoring=None, verbose=0)"
            ]
          },
          "metadata": {
            "tags": []
          },
          "execution_count": 47
        }
      ]
    },
    {
      "metadata": {
        "id": "3gS9jgh-YlRQ",
        "colab_type": "code",
        "colab": {
          "base_uri": "https://localhost:8080/",
          "height": 336
        },
        "outputId": "d1319b29-ba27-4937-af13-511cdd47cb1e"
      },
      "cell_type": "code",
      "source": [
        "y_pred_log = log_reg.predict(X_test_resampled)\n",
        "score_log_reg = accuracy_score(y_test_resampled,y_pred_log)\n",
        "print('===='*10)\n",
        "print('Best parameters:',log_reg.best_params_)\n",
        "print('===='*10)\n",
        "print('Classification Accuracy:')\n",
        "print(score_log_reg)\n",
        "print('===='*10)\n",
        "print(\"Confusion Matrix:\")\n",
        "print(confusion_matrix(y_pred_log,y_test_resampled))\n",
        "print('===='*10)\n",
        "print('Log Loss:')\n",
        "log_probs = log_reg.predict_proba(X_test_resampled)\n",
        "lg_log_loss = log_loss(y_test_resampled,log_probs)\n",
        "print(lg_log_loss)\n",
        "print('===='*10)\n",
        "print('F1 Score')\n",
        "lg_f_score = f1_score(y_test_resampled,y_pred_log)\n",
        "print(lg_f_score) \n",
        "print('===='*10)\n",
        "print('Area under curve')\n",
        "lg_auc = roc_auc_score(y_test_resampled,y_pred_log)\n",
        "print(lg_auc)"
      ],
      "execution_count": 48,
      "outputs": [
        {
          "output_type": "stream",
          "text": [
            "========================================\n",
            "Best parameters: {'C': 1}\n",
            "========================================\n",
            "Classification Accuracy:\n",
            "0.8920248575867427\n",
            "========================================\n",
            "Confusion Metrix:\n",
            "[[1667  153]\n",
            " [ 264 1778]]\n",
            "========================================\n",
            "Log Loss:\n",
            "0.2628407805453736\n",
            "========================================\n",
            "F1 Score\n",
            "0.8950415303297257\n",
            "========================================\n",
            "Area under curve\n",
            "0.8920248575867427\n"
          ],
          "name": "stdout"
        }
      ]
    },
    {
      "metadata": {
        "id": "X1pCSUo1Yldc",
        "colab_type": "code",
        "colab": {}
      },
      "cell_type": "code",
      "source": [
        "from sklearn import metrics"
      ],
      "execution_count": 0,
      "outputs": []
    },
    {
      "metadata": {
        "id": "H6vLQj8HYlaY",
        "colab_type": "code",
        "colab": {
          "base_uri": "https://localhost:8080/",
          "height": 34
        },
        "outputId": "ae819700-0837-4f93-b1bf-f4a100091300"
      },
      "cell_type": "code",
      "source": [
        "metrics.precision_score(y_test_resampled,y_pred_log)"
      ],
      "execution_count": 50,
      "outputs": [
        {
          "output_type": "execute_result",
          "data": {
            "text/plain": [
              "0.8707149853085211"
            ]
          },
          "metadata": {
            "tags": []
          },
          "execution_count": 50
        }
      ]
    },
    {
      "metadata": {
        "id": "ss0xxQv7YlYR",
        "colab_type": "code",
        "colab": {
          "base_uri": "https://localhost:8080/",
          "height": 34
        },
        "outputId": "34a86307-1dd9-4047-aac6-23aa6a39b98a"
      },
      "cell_type": "code",
      "source": [
        "metrics.recall_score(y_test_resampled,y_pred_log)"
      ],
      "execution_count": 51,
      "outputs": [
        {
          "output_type": "execute_result",
          "data": {
            "text/plain": [
              "0.9207664422578975"
            ]
          },
          "metadata": {
            "tags": []
          },
          "execution_count": 51
        }
      ]
    },
    {
      "metadata": {
        "id": "PWPx6xptYlWE",
        "colab_type": "code",
        "colab": {
          "base_uri": "https://localhost:8080/",
          "height": 176
        },
        "outputId": "b62947b8-e81b-4c42-e751-2245fbf84649"
      },
      "cell_type": "code",
      "source": [
        "print(classification_report(y_test_resampled,y_pred_log))"
      ],
      "execution_count": 52,
      "outputs": [
        {
          "output_type": "stream",
          "text": [
            "              precision    recall  f1-score   support\n",
            "\n",
            "           0       0.92      0.86      0.89      1931\n",
            "           1       0.87      0.92      0.90      1931\n",
            "\n",
            "   micro avg       0.89      0.89      0.89      3862\n",
            "   macro avg       0.89      0.89      0.89      3862\n",
            "weighted avg       0.89      0.89      0.89      3862\n",
            "\n"
          ],
          "name": "stdout"
        }
      ]
    },
    {
      "metadata": {
        "id": "MAoEw-zaYinm",
        "colab_type": "code",
        "colab": {
          "base_uri": "https://localhost:8080/",
          "height": 232
        },
        "outputId": "25b41f08-7878-4801-a7ba-b56a062e70c9"
      },
      "cell_type": "code",
      "source": [
        "#Random Forest\n",
        "rf = RandomForestClassifier(random_state=42)\n",
        "param_grid2 = {\"n_estimators\": [10, 18, 22],\n",
        "              \"max_depth\": [3, 5],\n",
        "              \"min_samples_split\": [15, 20],\n",
        "              \"min_samples_leaf\": [5, 10, 20],\n",
        "              \"max_leaf_nodes\": [20, 40],\n",
        "              \"min_weight_fraction_leaf\": [0.1]}\n",
        "r_forest = GridSearchCV(rf,param_grid2,cv=10)\n",
        "r_forest.fit(X_train_resampled,y_train_resampled)"
      ],
      "execution_count": 53,
      "outputs": [
        {
          "output_type": "execute_result",
          "data": {
            "text/plain": [
              "GridSearchCV(cv=10, error_score='raise-deprecating',\n",
              "       estimator=RandomForestClassifier(bootstrap=True, class_weight=None, criterion='gini',\n",
              "            max_depth=None, max_features='auto', max_leaf_nodes=None,\n",
              "            min_impurity_decrease=0.0, min_impurity_split=None,\n",
              "            min_samples_leaf=1, min_samples_split=2,\n",
              "            min_weight_fraction_leaf=0.0, n_estimators='warn', n_jobs=None,\n",
              "            oob_score=False, random_state=42, verbose=0, warm_start=False),\n",
              "       fit_params=None, iid='warn', n_jobs=None,\n",
              "       param_grid={'n_estimators': [10, 18, 22], 'max_depth': [3, 5], 'min_samples_split': [15, 20], 'min_samples_leaf': [5, 10, 20], 'max_leaf_nodes': [20, 40], 'min_weight_fraction_leaf': [0.1]},\n",
              "       pre_dispatch='2*n_jobs', refit=True, return_train_score='warn',\n",
              "       scoring=None, verbose=0)"
            ]
          },
          "metadata": {
            "tags": []
          },
          "execution_count": 53
        }
      ]
    },
    {
      "metadata": {
        "id": "UFqPdT20YilC",
        "colab_type": "code",
        "colab": {
          "base_uri": "https://localhost:8080/",
          "height": 336
        },
        "outputId": "e82deda5-6069-4805-a27f-f7684b1b6738"
      },
      "cell_type": "code",
      "source": [
        "r_forest_pred = r_forest.predict(X_test_resampled)\n",
        "score_rf = accuracy_score(y_test_resampled,r_forest_pred)\n",
        "print('===='*10)\n",
        "print('Best parameters',r_forest.best_params_)\n",
        "print('===='*10)\n",
        "print('Classification Accuracy:')\n",
        "print(score_rf)\n",
        "print('===='*10)\n",
        "print(\"Confusion Metrix:\")\n",
        "print(confusion_matrix(r_forest_pred,y_test_resampled))\n",
        "print('===='*10)\n",
        "print('Log Loss:')\n",
        "rf_probs = r_forest.predict_proba(X_test_resampled)\n",
        "rf_log_loss = log_loss(y_test_resampled,rf_probs)\n",
        "print(rf_log_loss)\n",
        "print('===='*10)\n",
        "print('F1 Score')\n",
        "rf_f_score = f1_score(y_test_resampled,r_forest_pred)\n",
        "print(rf_f_score) \n",
        "print('===='*10)\n",
        "print('Area under curve')\n",
        "rf_auc = roc_auc_score(y_test_resampled,r_forest_pred)\n",
        "print(rf_auc)"
      ],
      "execution_count": 54,
      "outputs": [
        {
          "output_type": "stream",
          "text": [
            "========================================\n",
            "Best parameters {'max_depth': 5, 'max_leaf_nodes': 20, 'min_samples_leaf': 5, 'min_samples_split': 15, 'min_weight_fraction_leaf': 0.1, 'n_estimators': 18}\n",
            "========================================\n",
            "Classification Accuracy:\n",
            "0.9003107198342828\n",
            "========================================\n",
            "Confusion Metrix:\n",
            "[[1692  146]\n",
            " [ 239 1785]]\n",
            "========================================\n",
            "Log Loss:\n",
            "0.3763649990254544\n",
            "========================================\n",
            "F1 Score\n",
            "0.9026548672566371\n",
            "========================================\n",
            "Area under curve\n",
            "0.9003107198342828\n"
          ],
          "name": "stdout"
        }
      ]
    },
    {
      "metadata": {
        "id": "klQxxsasYiht",
        "colab_type": "code",
        "colab": {
          "base_uri": "https://localhost:8080/",
          "height": 176
        },
        "outputId": "10faf10d-5d70-4f16-abcb-01c4d3ed4ce9"
      },
      "cell_type": "code",
      "source": [
        "print(classification_report(y_test_resampled,r_forest_pred))"
      ],
      "execution_count": 55,
      "outputs": [
        {
          "output_type": "stream",
          "text": [
            "              precision    recall  f1-score   support\n",
            "\n",
            "           0       0.92      0.88      0.90      1931\n",
            "           1       0.88      0.92      0.90      1931\n",
            "\n",
            "   micro avg       0.90      0.90      0.90      3862\n",
            "   macro avg       0.90      0.90      0.90      3862\n",
            "weighted avg       0.90      0.90      0.90      3862\n",
            "\n"
          ],
          "name": "stdout"
        }
      ]
    },
    {
      "metadata": {
        "id": "UpDy_XSsYiao",
        "colab_type": "code",
        "colab": {}
      },
      "cell_type": "code",
      "source": [
        "print(classification_report(y_test_resampled,y_pred_knnrs))"
      ],
      "execution_count": 0,
      "outputs": []
    },
    {
      "metadata": {
        "id": "6Ibzj0ohYiXZ",
        "colab_type": "code",
        "colab": {
          "base_uri": "https://localhost:8080/",
          "height": 232
        },
        "outputId": "b0253bd3-1db8-4dc5-f1ca-9928fcc056a2"
      },
      "cell_type": "code",
      "source": [
        "#Decision Trees\n",
        "dt = DecisionTreeClassifier(random_state=42)\n",
        "params = {'max_features': ['auto', 'sqrt', 'log2'],\n",
        "          'min_samples_split': [2,3,4,5,6,7,8,9,10,11,12,13,14,15], \n",
        "          'min_samples_leaf':[1,2,3,4,5,6,7,8,9,10,11],\n",
        "          'random_state':[123]}\n",
        "dtree_rs = GridSearchCV(dt, param_grid=params, n_jobs=-1,cv=10)\n",
        "dtree_rs.fit(X_train_resampled,y_train_resampled)"
      ],
      "execution_count": 56,
      "outputs": [
        {
          "output_type": "execute_result",
          "data": {
            "text/plain": [
              "GridSearchCV(cv=10, error_score='raise-deprecating',\n",
              "       estimator=DecisionTreeClassifier(class_weight=None, criterion='gini', max_depth=None,\n",
              "            max_features=None, max_leaf_nodes=None,\n",
              "            min_impurity_decrease=0.0, min_impurity_split=None,\n",
              "            min_samples_leaf=1, min_samples_split=2,\n",
              "            min_weight_fraction_leaf=0.0, presort=False, random_state=42,\n",
              "            splitter='best'),\n",
              "       fit_params=None, iid='warn', n_jobs=-1,\n",
              "       param_grid={'max_features': ['auto', 'sqrt', 'log2'], 'min_samples_split': [2, 3, 4, 5, 6, 7, 8, 9, 10, 11, 12, 13, 14, 15], 'min_samples_leaf': [1, 2, 3, 4, 5, 6, 7, 8, 9, 10, 11], 'random_state': [123]},\n",
              "       pre_dispatch='2*n_jobs', refit=True, return_train_score='warn',\n",
              "       scoring=None, verbose=0)"
            ]
          },
          "metadata": {
            "tags": []
          },
          "execution_count": 56
        }
      ]
    },
    {
      "metadata": {
        "id": "OHNHN__ZYiT6",
        "colab_type": "code",
        "colab": {
          "base_uri": "https://localhost:8080/",
          "height": 336
        },
        "outputId": "e3b1112e-1fe9-440e-8c4b-d487835d6caf"
      },
      "cell_type": "code",
      "source": [
        "#The best hyper parameters set\n",
        "y_pred_dt = dtree_rs.predict(X_test_resampled)\n",
        "score_dtree = accuracy_score(y_test_resampled,y_pred_dt)\n",
        "print('===='*10)\n",
        "print('Best parameters',dtree_rs.best_params_)\n",
        "print('===='*10)\n",
        "print('Classification Accuracy:')\n",
        "print(score_dtree)\n",
        "print('===='*10)\n",
        "print(\"Confusion Metrix:\")\n",
        "print(confusion_matrix(y_pred_dt,y_test_resampled))\n",
        "print('===='*10)\n",
        "print('Log Loss:')\n",
        "dt_probs = dtree_rs.predict_proba(X_test_resampled)\n",
        "dt_log_loss = log_loss(y_test_resampled,dt_probs)\n",
        "print(dt_log_loss)\n",
        "print('===='*10)\n",
        "print('F1 Score')\n",
        "dt_f_score = f1_score(y_test_resampled,y_pred_dt)\n",
        "print(dt_f_score) \n",
        "print('===='*10)\n",
        "print('Area under curve')\n",
        "dt_auc = roc_auc_score(y_test_resampled,y_pred_dt)\n",
        "print(dt_auc)"
      ],
      "execution_count": 57,
      "outputs": [
        {
          "output_type": "stream",
          "text": [
            "========================================\n",
            "Best parameters {'max_features': 'auto', 'min_samples_leaf': 1, 'min_samples_split': 15, 'random_state': 123}\n",
            "========================================\n",
            "Classification Accuracy:\n",
            "0.8039875712066287\n",
            "========================================\n",
            "Confusion Metrix:\n",
            "[[1780  606]\n",
            " [ 151 1325]]\n",
            "========================================\n",
            "Log Loss:\n",
            "4.385730835682936\n",
            "========================================\n",
            "F1 Score\n",
            "0.7778103903727619\n",
            "========================================\n",
            "Area under curve\n",
            "0.8039875712066288\n"
          ],
          "name": "stdout"
        }
      ]
    },
    {
      "metadata": {
        "id": "NMPjwmIxYiQS",
        "colab_type": "code",
        "colab": {
          "base_uri": "https://localhost:8080/",
          "height": 34
        },
        "outputId": "a393e377-e7e8-44cc-90eb-8dedcfbce0da"
      },
      "cell_type": "code",
      "source": [
        "#Naive Bayes\n",
        "nb = GaussianNB()\n",
        "nb.fit(X_train_resampled,y_train_resampled)"
      ],
      "execution_count": 58,
      "outputs": [
        {
          "output_type": "execute_result",
          "data": {
            "text/plain": [
              "GaussianNB(priors=None, var_smoothing=1e-09)"
            ]
          },
          "metadata": {
            "tags": []
          },
          "execution_count": 58
        }
      ]
    },
    {
      "metadata": {
        "id": "mJiZkhPwXyVZ",
        "colab_type": "code",
        "colab": {
          "base_uri": "https://localhost:8080/",
          "height": 301
        },
        "outputId": "26a0c6cf-7004-485d-fd5b-532cf6eac8d1"
      },
      "cell_type": "code",
      "source": [
        "y_pred_nb = nb.predict(X_test_resampled)\n",
        "score_nb = accuracy_score(y_test_resampled,y_pred_nb)\n",
        "print('===='*10)\n",
        "print('Classification Accuracy:')\n",
        "print(score_nb)\n",
        "print('===='*10)\n",
        "print(\"Confusion Metrix:\")\n",
        "print(confusion_matrix(y_pred_nb,y_test_resampled))\n",
        "print('===='*10)\n",
        "print('Log Loss:')\n",
        "nb_probs = nb.predict_proba(X_test_resampled)\n",
        "nb_log_loss = log_loss(y_test_resampled,nb_probs)\n",
        "print(nb_log_loss)\n",
        "print('===='*10)\n",
        "print('F1 Score')\n",
        "nb_f_score = f1_score(y_test_resampled,y_pred_nb)\n",
        "print(nb_f_score) \n",
        "print('===='*10)\n",
        "print('Area under curve')\n",
        "nb_auc = roc_auc_score(y_test_resampled,y_pred_nb)\n",
        "print(nb_auc)"
      ],
      "execution_count": 59,
      "outputs": [
        {
          "output_type": "stream",
          "text": [
            "========================================\n",
            "Classification Accuracy:\n",
            "0.8974624546866908\n",
            "========================================\n",
            "Confusion Metrix:\n",
            "[[1672  137]\n",
            " [ 259 1794]]\n",
            "========================================\n",
            "Log Loss:\n",
            "0.2597803536851469\n",
            "========================================\n",
            "F1 Score\n",
            "0.9006024096385543\n",
            "========================================\n",
            "Area under curve\n",
            "0.897462454686691\n"
          ],
          "name": "stdout"
        }
      ]
    },
    {
      "metadata": {
        "id": "sqgWibE-XyOH",
        "colab_type": "code",
        "colab": {
          "base_uri": "https://localhost:8080/",
          "height": 176
        },
        "outputId": "bdd0a32f-1d78-4c50-875b-83bd96eb527f"
      },
      "cell_type": "code",
      "source": [
        "print(classification_report(y_test_resampled,y_pred_nb))"
      ],
      "execution_count": 60,
      "outputs": [
        {
          "output_type": "stream",
          "text": [
            "              precision    recall  f1-score   support\n",
            "\n",
            "           0       0.92      0.87      0.89      1931\n",
            "           1       0.87      0.93      0.90      1931\n",
            "\n",
            "   micro avg       0.90      0.90      0.90      3862\n",
            "   macro avg       0.90      0.90      0.90      3862\n",
            "weighted avg       0.90      0.90      0.90      3862\n",
            "\n"
          ],
          "name": "stdout"
        }
      ]
    },
    {
      "metadata": {
        "id": "asC5tqw_XyLw",
        "colab_type": "code",
        "colab": {
          "base_uri": "https://localhost:8080/",
          "height": 167
        },
        "outputId": "4b154b00-7bcb-49c9-e4bf-09ee198d2252"
      },
      "cell_type": "code",
      "source": [
        "all_scores = pd.DataFrame({'Algorithm':['Decision Tree','Random Forest','Naive Bayes','Logistic Regression'],\n",
        "                         'Score':[score_dtree,score_rf,score_nb,score_log_reg]})\n",
        "all_scores = all_scores.sort_values(by='Score',ascending=False)\n",
        "all_scores"
      ],
      "execution_count": 64,
      "outputs": [
        {
          "output_type": "execute_result",
          "data": {
            "text/html": [
              "<div>\n",
              "<style scoped>\n",
              "    .dataframe tbody tr th:only-of-type {\n",
              "        vertical-align: middle;\n",
              "    }\n",
              "\n",
              "    .dataframe tbody tr th {\n",
              "        vertical-align: top;\n",
              "    }\n",
              "\n",
              "    .dataframe thead th {\n",
              "        text-align: right;\n",
              "    }\n",
              "</style>\n",
              "<table border=\"1\" class=\"dataframe\">\n",
              "  <thead>\n",
              "    <tr style=\"text-align: right;\">\n",
              "      <th></th>\n",
              "      <th>Algorithm</th>\n",
              "      <th>Score</th>\n",
              "    </tr>\n",
              "  </thead>\n",
              "  <tbody>\n",
              "    <tr>\n",
              "      <th>1</th>\n",
              "      <td>Random Forest</td>\n",
              "      <td>0.900311</td>\n",
              "    </tr>\n",
              "    <tr>\n",
              "      <th>2</th>\n",
              "      <td>Naive Bayes</td>\n",
              "      <td>0.897462</td>\n",
              "    </tr>\n",
              "    <tr>\n",
              "      <th>3</th>\n",
              "      <td>Logistic Regression</td>\n",
              "      <td>0.892025</td>\n",
              "    </tr>\n",
              "    <tr>\n",
              "      <th>0</th>\n",
              "      <td>Decision Tree</td>\n",
              "      <td>0.803988</td>\n",
              "    </tr>\n",
              "  </tbody>\n",
              "</table>\n",
              "</div>"
            ],
            "text/plain": [
              "             Algorithm     Score\n",
              "1        Random Forest  0.900311\n",
              "2          Naive Bayes  0.897462\n",
              "3  Logistic Regression  0.892025\n",
              "0        Decision Tree  0.803988"
            ]
          },
          "metadata": {
            "tags": []
          },
          "execution_count": 64
        }
      ]
    },
    {
      "metadata": {
        "id": "GP7QNP2GXyJ-",
        "colab_type": "code",
        "colab": {
          "base_uri": "https://localhost:8080/",
          "height": 167
        },
        "outputId": "f0934fd4-15f5-466b-9fcd-905c483d5ede"
      },
      "cell_type": "code",
      "source": [
        "Log_loss = pd.DataFrame({'Algorithm':['Decision Tree','Random Forest','Naive Bayes','Logistic Regression'],\n",
        "                         'Logarithmic_Loss':[dt_log_loss,rf_log_loss,nb_log_loss,lg_log_loss]})\n",
        "Log_loss = Log_loss.sort_values(by='Logarithmic_Loss',ascending=True)\n",
        "Log_loss"
      ],
      "execution_count": 65,
      "outputs": [
        {
          "output_type": "execute_result",
          "data": {
            "text/html": [
              "<div>\n",
              "<style scoped>\n",
              "    .dataframe tbody tr th:only-of-type {\n",
              "        vertical-align: middle;\n",
              "    }\n",
              "\n",
              "    .dataframe tbody tr th {\n",
              "        vertical-align: top;\n",
              "    }\n",
              "\n",
              "    .dataframe thead th {\n",
              "        text-align: right;\n",
              "    }\n",
              "</style>\n",
              "<table border=\"1\" class=\"dataframe\">\n",
              "  <thead>\n",
              "    <tr style=\"text-align: right;\">\n",
              "      <th></th>\n",
              "      <th>Algorithm</th>\n",
              "      <th>Logarithmic_Loss</th>\n",
              "    </tr>\n",
              "  </thead>\n",
              "  <tbody>\n",
              "    <tr>\n",
              "      <th>2</th>\n",
              "      <td>Naive Bayes</td>\n",
              "      <td>0.259780</td>\n",
              "    </tr>\n",
              "    <tr>\n",
              "      <th>3</th>\n",
              "      <td>Logistic Regression</td>\n",
              "      <td>0.262841</td>\n",
              "    </tr>\n",
              "    <tr>\n",
              "      <th>1</th>\n",
              "      <td>Random Forest</td>\n",
              "      <td>0.376365</td>\n",
              "    </tr>\n",
              "    <tr>\n",
              "      <th>0</th>\n",
              "      <td>Decision Tree</td>\n",
              "      <td>4.385731</td>\n",
              "    </tr>\n",
              "  </tbody>\n",
              "</table>\n",
              "</div>"
            ],
            "text/plain": [
              "             Algorithm  Logarithmic_Loss\n",
              "2          Naive Bayes          0.259780\n",
              "3  Logistic Regression          0.262841\n",
              "1        Random Forest          0.376365\n",
              "0        Decision Tree          4.385731"
            ]
          },
          "metadata": {
            "tags": []
          },
          "execution_count": 65
        }
      ]
    },
    {
      "metadata": {
        "id": "KMvDeDTIZrME",
        "colab_type": "code",
        "colab": {
          "base_uri": "https://localhost:8080/",
          "height": 167
        },
        "outputId": "36efd20e-cee9-4095-afc9-780cd3b03c07"
      },
      "cell_type": "code",
      "source": [
        "f1_score = pd.DataFrame({'Algorithm':['Decision Tree','Random Forest','Naive Bayes','Logistic Regression'],\n",
        "                         'F1_Score':[dt_f_score,rf_f_score,nb_f_score,lg_f_score]})\n",
        "f1_score = f1_score.sort_values(by='F1_Score',ascending=False)\n",
        "f1_score"
      ],
      "execution_count": 66,
      "outputs": [
        {
          "output_type": "execute_result",
          "data": {
            "text/html": [
              "<div>\n",
              "<style scoped>\n",
              "    .dataframe tbody tr th:only-of-type {\n",
              "        vertical-align: middle;\n",
              "    }\n",
              "\n",
              "    .dataframe tbody tr th {\n",
              "        vertical-align: top;\n",
              "    }\n",
              "\n",
              "    .dataframe thead th {\n",
              "        text-align: right;\n",
              "    }\n",
              "</style>\n",
              "<table border=\"1\" class=\"dataframe\">\n",
              "  <thead>\n",
              "    <tr style=\"text-align: right;\">\n",
              "      <th></th>\n",
              "      <th>Algorithm</th>\n",
              "      <th>F1_Score</th>\n",
              "    </tr>\n",
              "  </thead>\n",
              "  <tbody>\n",
              "    <tr>\n",
              "      <th>1</th>\n",
              "      <td>Random Forest</td>\n",
              "      <td>0.902655</td>\n",
              "    </tr>\n",
              "    <tr>\n",
              "      <th>2</th>\n",
              "      <td>Naive Bayes</td>\n",
              "      <td>0.900602</td>\n",
              "    </tr>\n",
              "    <tr>\n",
              "      <th>3</th>\n",
              "      <td>Logistic Regression</td>\n",
              "      <td>0.895042</td>\n",
              "    </tr>\n",
              "    <tr>\n",
              "      <th>0</th>\n",
              "      <td>Decision Tree</td>\n",
              "      <td>0.777810</td>\n",
              "    </tr>\n",
              "  </tbody>\n",
              "</table>\n",
              "</div>"
            ],
            "text/plain": [
              "             Algorithm  F1_Score\n",
              "1        Random Forest  0.902655\n",
              "2          Naive Bayes  0.900602\n",
              "3  Logistic Regression  0.895042\n",
              "0        Decision Tree  0.777810"
            ]
          },
          "metadata": {
            "tags": []
          },
          "execution_count": 66
        }
      ]
    },
    {
      "metadata": {
        "id": "oVcLpbTNZrIh",
        "colab_type": "code",
        "colab": {
          "base_uri": "https://localhost:8080/",
          "height": 167
        },
        "outputId": "d287cec3-ff28-4d58-c01d-3357f39d8d19"
      },
      "cell_type": "code",
      "source": [
        "auc_score = pd.DataFrame({'Algorithm':['Decision Tree','Random Forest','Naive Bayes','Logistic Regression'],\n",
        "                         'Auc_Score':[dt_auc,rf_auc,nb_auc,lg_auc]})\n",
        "auc_score = auc_score.sort_values(by='Auc_Score',ascending=False)\n",
        "auc_score"
      ],
      "execution_count": 67,
      "outputs": [
        {
          "output_type": "execute_result",
          "data": {
            "text/html": [
              "<div>\n",
              "<style scoped>\n",
              "    .dataframe tbody tr th:only-of-type {\n",
              "        vertical-align: middle;\n",
              "    }\n",
              "\n",
              "    .dataframe tbody tr th {\n",
              "        vertical-align: top;\n",
              "    }\n",
              "\n",
              "    .dataframe thead th {\n",
              "        text-align: right;\n",
              "    }\n",
              "</style>\n",
              "<table border=\"1\" class=\"dataframe\">\n",
              "  <thead>\n",
              "    <tr style=\"text-align: right;\">\n",
              "      <th></th>\n",
              "      <th>Algorithm</th>\n",
              "      <th>Auc_Score</th>\n",
              "    </tr>\n",
              "  </thead>\n",
              "  <tbody>\n",
              "    <tr>\n",
              "      <th>1</th>\n",
              "      <td>Random Forest</td>\n",
              "      <td>0.900311</td>\n",
              "    </tr>\n",
              "    <tr>\n",
              "      <th>2</th>\n",
              "      <td>Naive Bayes</td>\n",
              "      <td>0.897462</td>\n",
              "    </tr>\n",
              "    <tr>\n",
              "      <th>3</th>\n",
              "      <td>Logistic Regression</td>\n",
              "      <td>0.892025</td>\n",
              "    </tr>\n",
              "    <tr>\n",
              "      <th>0</th>\n",
              "      <td>Decision Tree</td>\n",
              "      <td>0.803988</td>\n",
              "    </tr>\n",
              "  </tbody>\n",
              "</table>\n",
              "</div>"
            ],
            "text/plain": [
              "             Algorithm  Auc_Score\n",
              "1        Random Forest   0.900311\n",
              "2          Naive Bayes   0.897462\n",
              "3  Logistic Regression   0.892025\n",
              "0        Decision Tree   0.803988"
            ]
          },
          "metadata": {
            "tags": []
          },
          "execution_count": 67
        }
      ]
    },
    {
      "metadata": {
        "id": "j3u6FAweZ0K2",
        "colab_type": "code",
        "colab": {}
      },
      "cell_type": "code",
      "source": [
        "X = df.drop('default',axis=1)\n",
        "y = df['default']"
      ],
      "execution_count": 0,
      "outputs": []
    },
    {
      "metadata": {
        "id": "BvXIP1V4Z0Ib",
        "colab_type": "code",
        "colab": {}
      },
      "cell_type": "code",
      "source": [
        "from sklearn.model_selection import KFold,StratifiedKFold"
      ],
      "execution_count": 0,
      "outputs": []
    },
    {
      "metadata": {
        "id": "wvTatCGZZz-s",
        "colab_type": "code",
        "colab": {
          "base_uri": "https://localhost:8080/",
          "height": 525
        },
        "outputId": "2dbb61dd-92e2-43f7-f1b5-5176474b1362"
      },
      "cell_type": "code",
      "source": [
        "#ROC Curve with Decision Tree\n",
        "dt_probs = dtree_rs.predict_proba(X_test_resampled)[:,-1]\n",
        "fpr,tpr,thresholds = roc_curve(y_test_resampled,dt_probs)\n",
        "\n",
        "#Plot ROC Curve\n",
        "plt.plot([0,1],[0,1],'k--')\n",
        "plt.plot(fpr,tpr)\n",
        "plt.xlabel('False Positive Rate')\n",
        "plt.ylabel('True Positive Rate')\n",
        "plt.title('Decision Tree ROC Curve')\n",
        "plt.show()"
      ],
      "execution_count": 75,
      "outputs": [
        {
          "output_type": "display_data",
          "data": {
            "image/png": "[encoded data removed]",
            "text/plain": [
              "<Figure size 842.4x595.44 with 1 Axes>"
            ]
          },
          "metadata": {
            "tags": []
          }
        }
      ]
    },
    {
      "metadata": {
        "id": "-s1zXh3SZz7e",
        "colab_type": "code",
        "colab": {
          "base_uri": "https://localhost:8080/",
          "height": 525
        },
        "outputId": "3236f7b1-80b2-4201-a57a-62469b5a937d"
      },
      "cell_type": "code",
      "source": [
        "#Random Forest ROC\n",
        "rf_probs = r_forest.predict_proba(X_test_resampled)[:,-1]\n",
        "fpr,tpr,thresholds = roc_curve(y_test_resampled,rf_probs)\n",
        "\n",
        "#Roc Curve Plot\n",
        "\n",
        "plt.plot([0,1],[0,1],'k--')\n",
        "plt.plot(fpr,tpr)\n",
        "plt.xlabel('False Positive Rate')\n",
        "plt.ylabel('True Positive Rate')\n",
        "plt.title('Random Forest ROC CURVE')\n",
        "\n",
        "plt.show()"
      ],
      "execution_count": 76,
      "outputs": [
        {
          "output_type": "display_data",
          "data": {
            "image/png": "[encoded data removed]",
            "text/plain": [
              "<Figure size 842.4x595.44 with 1 Axes>"
            ]
          },
          "metadata": {
            "tags": []
          }
        }
      ]
    },
    {
      "metadata": {
        "id": "vGUedJ7Ihost",
        "colab_type": "code",
        "colab": {}
      },
      "cell_type": "code",
      "source": [
        "I chose Decision tree because of its commanding good ROC_AUC score for use to score the new \n",
        "entrants. "
      ],
      "execution_count": 0,
      "outputs": []
    }
  ]
}